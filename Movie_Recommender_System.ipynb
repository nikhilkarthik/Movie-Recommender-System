{
 "cells": [
  {
   "cell_type": "markdown",
   "metadata": {},
   "source": [
    "Building a Movie Recommendation System using the ALS algorithm\n",
    "\n",
    "The data set chosen for the analysis is the Movie Lens Data"
   ]
  },
  {
   "cell_type": "code",
   "execution_count": 69,
   "metadata": {},
   "outputs": [],
   "source": [
    "# importing required libraries\n",
    "from pyspark.sql import SparkSession\n",
    "from pyspark.ml.evaluation import RegressionEvaluator\n",
    "from pyspark.ml.tuning import TrainValidationSplit, ParamGridBuilder,CrossValidator\n",
    "from pyspark.ml.recommendation import ALS\n",
    "import pandas as pd\n"
   ]
  },
  {
   "cell_type": "code",
   "execution_count": 2,
   "metadata": {},
   "outputs": [],
   "source": [
    "# creating a spark session\n",
    "sparksession = SparkSession.builder.appName(\"Movie\").getOrCreate()"
   ]
  },
  {
   "cell_type": "code",
   "execution_count": 4,
   "metadata": {},
   "outputs": [],
   "source": [
    "# reading the movielens dataset\n",
    "movielensdata = sparksession.read.csv('movielens_ratings.csv',inferSchema=True,header=True)"
   ]
  },
  {
   "cell_type": "code",
   "execution_count": 32,
   "metadata": {},
   "outputs": [
    {
     "name": "stdout",
     "output_type": "stream",
     "text": [
      "root\n",
      " |-- movieId: integer (nullable = true)\n",
      " |-- rating: double (nullable = true)\n",
      " |-- userId: integer (nullable = true)\n",
      "\n"
     ]
    }
   ],
   "source": [
    "# schema of the dataset\n",
    "movielensdata.printSchema()"
   ]
  },
  {
   "cell_type": "code",
   "execution_count": 35,
   "metadata": {},
   "outputs": [
    {
     "name": "stdout",
     "output_type": "stream",
     "text": [
      "+-------+------+------+\n",
      "|movieId|rating|userId|\n",
      "+-------+------+------+\n",
      "|      2|   3.0|     0|\n",
      "|      3|   1.0|     0|\n",
      "|      5|   2.0|     0|\n",
      "|      9|   4.0|     0|\n",
      "|     11|   1.0|     0|\n",
      "|     12|   2.0|     0|\n",
      "|     15|   1.0|     0|\n",
      "|     17|   1.0|     0|\n",
      "|     19|   1.0|     0|\n",
      "|     21|   1.0|     0|\n",
      "|     23|   1.0|     0|\n",
      "|     26|   3.0|     0|\n",
      "|     27|   1.0|     0|\n",
      "|     28|   1.0|     0|\n",
      "|     29|   1.0|     0|\n",
      "|     30|   1.0|     0|\n",
      "|     31|   1.0|     0|\n",
      "|     34|   1.0|     0|\n",
      "|     37|   1.0|     0|\n",
      "|     41|   2.0|     0|\n",
      "+-------+------+------+\n",
      "only showing top 20 rows\n",
      "\n"
     ]
    }
   ],
   "source": [
    "# top 20 rows of the movielens data\n",
    "movielensdata.show()"
   ]
  },
  {
   "cell_type": "code",
   "execution_count": null,
   "metadata": {},
   "outputs": [],
   "source": [
    "#Number of rows in the dataset\n",
    "movielensdata.count()"
   ]
  },
  {
   "cell_type": "code",
   "execution_count": 28,
   "metadata": {},
   "outputs": [
    {
     "data": {
      "text/plain": [
       "30"
      ]
     },
     "execution_count": 28,
     "metadata": {},
     "output_type": "execute_result"
    }
   ],
   "source": [
    "# Number of unique users\n",
    "movielensdata.toPandas()['userId'].nunique()"
   ]
  },
  {
   "cell_type": "code",
   "execution_count": 30,
   "metadata": {},
   "outputs": [
    {
     "data": {
      "text/plain": [
       "100"
      ]
     },
     "execution_count": 30,
     "metadata": {},
     "output_type": "execute_result"
    }
   ],
   "source": [
    "# Number of unique movies\n",
    "movielensdata.toPandas()['movieId'].nunique()"
   ]
  },
  {
   "cell_type": "code",
   "execution_count": 91,
   "metadata": {},
   "outputs": [
    {
     "data": {
      "text/html": [
       "<div>\n",
       "<style scoped>\n",
       "    .dataframe tbody tr th:only-of-type {\n",
       "        vertical-align: middle;\n",
       "    }\n",
       "\n",
       "    .dataframe tbody tr th {\n",
       "        vertical-align: top;\n",
       "    }\n",
       "\n",
       "    .dataframe thead th {\n",
       "        text-align: right;\n",
       "    }\n",
       "</style>\n",
       "<table border=\"1\" class=\"dataframe\">\n",
       "  <thead>\n",
       "    <tr style=\"text-align: right;\">\n",
       "      <th></th>\n",
       "      <th>movieID</th>\n",
       "      <th>Average_Rating</th>\n",
       "    </tr>\n",
       "  </thead>\n",
       "  <tbody>\n",
       "    <tr>\n",
       "      <th>77</th>\n",
       "      <td>32</td>\n",
       "      <td>2.92</td>\n",
       "    </tr>\n",
       "    <tr>\n",
       "      <th>76</th>\n",
       "      <td>90</td>\n",
       "      <td>2.81</td>\n",
       "    </tr>\n",
       "    <tr>\n",
       "      <th>90</th>\n",
       "      <td>30</td>\n",
       "      <td>2.50</td>\n",
       "    </tr>\n",
       "    <tr>\n",
       "      <th>49</th>\n",
       "      <td>23</td>\n",
       "      <td>2.47</td>\n",
       "    </tr>\n",
       "    <tr>\n",
       "      <th>26</th>\n",
       "      <td>94</td>\n",
       "      <td>2.47</td>\n",
       "    </tr>\n",
       "    <tr>\n",
       "      <th>51</th>\n",
       "      <td>49</td>\n",
       "      <td>2.44</td>\n",
       "    </tr>\n",
       "    <tr>\n",
       "      <th>96</th>\n",
       "      <td>18</td>\n",
       "      <td>2.40</td>\n",
       "    </tr>\n",
       "    <tr>\n",
       "      <th>72</th>\n",
       "      <td>29</td>\n",
       "      <td>2.40</td>\n",
       "    </tr>\n",
       "    <tr>\n",
       "      <th>18</th>\n",
       "      <td>52</td>\n",
       "      <td>2.36</td>\n",
       "    </tr>\n",
       "    <tr>\n",
       "      <th>3</th>\n",
       "      <td>53</td>\n",
       "      <td>2.25</td>\n",
       "    </tr>\n",
       "  </tbody>\n",
       "</table>\n",
       "</div>"
      ],
      "text/plain": [
       "    movieID  Average_Rating\n",
       "77       32            2.92\n",
       "76       90            2.81\n",
       "90       30            2.50\n",
       "49       23            2.47\n",
       "26       94            2.47\n",
       "51       49            2.44\n",
       "96       18            2.40\n",
       "72       29            2.40\n",
       "18       52            2.36\n",
       "3        53            2.25"
      ]
     },
     "execution_count": 91,
     "metadata": {},
     "output_type": "execute_result"
    }
   ],
   "source": [
    "# calculating average rating for each movie\n",
    "avgmovierating=movielensdata.select([\"movieID\",\"rating\"]).groupBy(\"movieID\").mean().select([\"movieID\",\"avg(rating)\"]).toPandas()\n",
    "avgmovierating=avgmovierating.rename({\"avg(rating)\":\"Average_Rating\"},axis=1)\n",
    "avgmovierating[\"Average_Rating\"] =avgmovierating[\"Average_Rating\"].round(2)\n",
    "avgmovierating.sort_values(\"Average_Rating\",ascending =False).head(10)\n"
   ]
  },
  {
   "cell_type": "code",
   "execution_count": 102,
   "metadata": {
    "scrolled": true
   },
   "outputs": [
    {
     "name": "stdout",
     "output_type": "stream",
     "text": [
      "+-------+--------------+\n",
      "|movieID|Average_Rating|\n",
      "+-------+--------------+\n",
      "|     32|          2.92|\n",
      "|     90|          2.81|\n",
      "|     30|           2.5|\n",
      "|     94|          2.47|\n",
      "|     23|          2.47|\n",
      "|     49|          2.44|\n",
      "|     29|           2.4|\n",
      "|     18|           2.4|\n",
      "|     52|          2.36|\n",
      "|     53|          2.25|\n",
      "+-------+--------------+\n",
      "\n"
     ]
    }
   ],
   "source": [
    "# calculating average rating for each movie using SPARK SQL\n",
    "movielensdata.createOrReplaceTempView(\"movie\")\n",
    "sparksession.sql(\"SELECT movieID, ROUND(AVG(rating),2) as Average_Rating FROM movie GROUP BY movieID ORDER BY Average_Rating DESC LIMIT 10\").show()\n"
   ]
  },
  {
   "cell_type": "code",
   "execution_count": 138,
   "metadata": {},
   "outputs": [
    {
     "name": "stdout",
     "output_type": "stream",
     "text": [
      "+-------+------------------+------------------+------------------+\n",
      "|summary|           movieId|            rating|            userId|\n",
      "+-------+------------------+------------------+------------------+\n",
      "|  count|              1501|              1501|              1501|\n",
      "|   mean| 49.40572951365756|1.7741505662891406|14.383744170552964|\n",
      "| stddev|28.937034065088994| 1.187276166124803| 8.591040424293272|\n",
      "|    min|                 0|               1.0|                 0|\n",
      "|    max|                99|               5.0|                29|\n",
      "+-------+------------------+------------------+------------------+\n",
      "\n"
     ]
    }
   ],
   "source": [
    "# Summary Statistics of the Movielens data\n",
    "movielensdata.describe().show()"
   ]
  },
  {
   "cell_type": "code",
   "execution_count": 103,
   "metadata": {},
   "outputs": [],
   "source": [
    "# Splitting the data into 70% training data and 30% Test Data\n",
    "(traindata, testdata) = movielensdata.randomSplit([0.7, 0.3])"
   ]
  },
  {
   "cell_type": "code",
   "execution_count": 122,
   "metadata": {},
   "outputs": [],
   "source": [
    "# Buidling the ALS model\n",
    "alsmodel =  ALS(userCol=\"userId\", itemCol=\"movieId\", ratingCol=\"rating\",coldStartStrategy=\"drop\",nonnegative=True)\n"
   ]
  },
  {
   "cell_type": "code",
   "execution_count": 125,
   "metadata": {},
   "outputs": [],
   "source": [
    "# setting the hyper parameter grid \n",
    "paramgrid =  ParamGridBuilder().addGrid(alsmodel.maxIter,[5,10,15]).addGrid(alsmodel.regParam,[0.01,0.1,0.2]).build()"
   ]
  },
  {
   "cell_type": "code",
   "execution_count": 126,
   "metadata": {},
   "outputs": [],
   "source": [
    "# The model evaluation metric is Root Mean Square Error\n",
    "evaluator = RegressionEvaluator(metricName=\"rmse\", labelCol=\"rating\",predictionCol=\"prediction\")\n"
   ]
  },
  {
   "cell_type": "code",
   "execution_count": 127,
   "metadata": {},
   "outputs": [],
   "source": [
    "# to perform cross-validation on the grid hyper parameters\n",
    "cross_validation = CrossValidator(estimator=alsmodel,estimatorParamMaps=paramgrid,evaluator=evaluator,numFolds=5) "
   ]
  },
  {
   "cell_type": "code",
   "execution_count": 128,
   "metadata": {},
   "outputs": [],
   "source": [
    "# fitting the ALS model\n",
    "mod = cross_validation.fit(traindata)"
   ]
  },
  {
   "cell_type": "code",
   "execution_count": 129,
   "metadata": {},
   "outputs": [],
   "source": [
    "# Selecting the best model with least RMSE\n",
    "bestmodel = mod.bestModel\n"
   ]
  },
  {
   "cell_type": "code",
   "execution_count": 131,
   "metadata": {},
   "outputs": [],
   "source": [
    "# Getting the predictions from the model on the test set\n",
    "predictions = bestmodel.transform(testdata)"
   ]
  },
  {
   "cell_type": "code",
   "execution_count": 132,
   "metadata": {},
   "outputs": [
    {
     "name": "stdout",
     "output_type": "stream",
     "text": [
      "+-------+------+------+----------+\n",
      "|movieId|rating|userId|prediction|\n",
      "+-------+------+------+----------+\n",
      "|     31|   1.0|    26|0.59006816|\n",
      "|     31|   4.0|    12| 1.2104212|\n",
      "|     85|   1.0|    26| 1.1737769|\n",
      "|     85|   3.0|     1|  1.246295|\n",
      "|     85|   1.0|    13| 1.9065279|\n",
      "|     85|   1.0|    15| 0.8273883|\n",
      "|     85|   1.0|    23|  1.019778|\n",
      "|     85|   1.0|    25| 1.8364308|\n",
      "|     65|   1.0|    28|  1.672488|\n",
      "|     65|   2.0|     3| 1.2472758|\n",
      "|     65|   2.0|     5| 3.4569218|\n",
      "|     65|   1.0|     4|0.74044275|\n",
      "|     53|   3.0|    13| 2.4844565|\n",
      "|     53|   1.0|     6| 2.5893838|\n",
      "|     53|   3.0|    20| 1.4866754|\n",
      "|     53|   3.0|    14| 3.5209095|\n",
      "|     78|   1.0|    12| 0.6664252|\n",
      "|     78|   1.0|     1| 0.7142437|\n",
      "|     78|   1.0|    19| 0.6469874|\n",
      "|     78|   1.0|    17|0.71163535|\n",
      "+-------+------+------+----------+\n",
      "only showing top 20 rows\n",
      "\n"
     ]
    }
   ],
   "source": [
    "# displaying some predictions \n",
    "predictions.show()"
   ]
  },
  {
   "cell_type": "code",
   "execution_count": 134,
   "metadata": {},
   "outputs": [
    {
     "name": "stdout",
     "output_type": "stream",
     "text": [
      "+-------+------+------+----------+\n",
      "|movieId|rating|userId|prediction|\n",
      "+-------+------+------+----------+\n",
      "|     25|   2.0|    14| 4.4706593|\n",
      "|     32|   3.0|    24| 4.4344606|\n",
      "|     32|   5.0|    23|  4.403323|\n",
      "|     52|   5.0|     8|  4.150547|\n",
      "|     49|   4.0|     5|  3.907705|\n",
      "|     68|   3.0|    23| 3.7907603|\n",
      "|     63|   4.0|    24| 3.6452858|\n",
      "|     27|   5.0|    11| 3.6237674|\n",
      "|     64|   4.0|    23|   3.53715|\n",
      "|     53|   3.0|    14| 3.5209095|\n",
      "|     49|   3.0|    17| 3.5192595|\n",
      "|     49|   3.0|    26| 3.5027378|\n",
      "|     65|   2.0|     5| 3.4569218|\n",
      "|     12|   1.0|    11| 3.2897742|\n",
      "|     96|   4.0|    14|  3.237337|\n",
      "|     18|   3.0|    22| 3.1240072|\n",
      "|     64|   3.0|     5| 3.1161447|\n",
      "|     72|   4.0|    14| 2.9740045|\n",
      "|     29|   4.0|     4| 2.9495337|\n",
      "|      7|   1.0|    28| 2.9177337|\n",
      "+-------+------+------+----------+\n",
      "only showing top 20 rows\n",
      "\n"
     ]
    }
   ],
   "source": [
    "# Viewing the predictions of rating for a particular user \n",
    "movielensdata.createOrReplaceTempView(\"movie\")\n",
    "user =sparksession.sql(\"SELECT movieID, userId FROM movie where userId =2\").toPandas()\n",
    "reccomendations = bestmodel.transform(testdata)\n",
    "reccomendations.orderBy('prediction',ascending=False).show()"
   ]
  },
  {
   "cell_type": "code",
   "execution_count": 137,
   "metadata": {},
   "outputs": [
    {
     "name": "stdout",
     "output_type": "stream",
     "text": [
      "Root-mean-square error = 1.07\n"
     ]
    }
   ],
   "source": [
    "# The RMSE of the ALS model \n",
    "evaluator = RegressionEvaluator(metricName=\"rmse\", labelCol=\"rating\",predictionCol=\"prediction\")\n",
    "rmse = evaluator.evaluate(predictions)\n",
    "print(\"Root-mean-square error = \" + str(round(rmse,2)))"
   ]
  }
 ],
 "metadata": {
  "kernelspec": {
   "display_name": "Python 3",
   "language": "python",
   "name": "python3"
  },
  "language_info": {
   "codemirror_mode": {
    "name": "ipython",
    "version": 3
   },
   "file_extension": ".py",
   "mimetype": "text/x-python",
   "name": "python",
   "nbconvert_exporter": "python",
   "pygments_lexer": "ipython3",
   "version": "3.7.0"
  }
 },
 "nbformat": 4,
 "nbformat_minor": 2
}
